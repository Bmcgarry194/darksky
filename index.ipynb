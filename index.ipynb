{
 "cells": [
  {
   "cell_type": "code",
   "execution_count": null,
   "metadata": {},
   "outputs": [],
   "source": [
    "import requests\n",
    "import pandas as pd\n",
    "import numpy as np\n",
    "import sqlite3\n",
    "import pymongo\n",
    "import dns\n",
    "import darksky_soccer as ds\n",
    "\n",
    "%load_ext autoreload\n",
    "%autoreload 2"
   ]
  },
  {
   "cell_type": "markdown",
   "metadata": {},
   "source": [
    "### Pull match data from sqlite database and combine with darksky weather data"
   ]
  },
  {
   "cell_type": "code",
   "execution_count": null,
   "metadata": {},
   "outputs": [],
   "source": [
    "darksky_key = ds.get_api_key('/Users/bmcgarry/.secret/darksky.txt')\n",
    "\n",
    "match_stats = ds.match_rain_data('database.sqlite', 2013, darksky_key)"
   ]
  },
  {
   "cell_type": "markdown",
   "metadata": {},
   "source": [
    "### Create aggregate match stats with either pandas or sqlite"
   ]
  },
  {
   "cell_type": "code",
   "execution_count": null,
   "metadata": {},
   "outputs": [],
   "source": [
    "#Aggregate with Pandas\n",
    "# team_stats = ds.calculate_aggregate_stats_pandas(match_stats)\n",
    "\n",
    "#Aggregate with SQLite\n",
    "team_stats = ds.calculate_aggregate_stats_sqlite(match_stats, 'database.sqlite')"
   ]
  },
  {
   "cell_type": "markdown",
   "metadata": {},
   "source": [
    "### Insert data into atlas instance"
   ]
  },
  {
   "cell_type": "code",
   "execution_count": null,
   "metadata": {},
   "outputs": [],
   "source": [
    "atlas_user = 'brian_m'\n",
    "atlas_key = ds.get_api_key('/Users/bmcgarry/.secret/atlas.txt')\n",
    "cluster_name = 'chocolate-clusters-so6jw'\n",
    "collection_name = 'soccer_stats'\n",
    "\n",
    "ds.insert_to_atlas(atlas_user,\n",
    "                   atlas_key,\n",
    "                   cluster_name,\n",
    "                   collection_name,\n",
    "                   team_stats)"
   ]
  },
  {
   "cell_type": "markdown",
   "metadata": {},
   "source": [
    "### Pull match data from atlas"
   ]
  },
  {
   "cell_type": "code",
   "execution_count": null,
   "metadata": {},
   "outputs": [],
   "source": [
    "client = pymongo.MongoClient(f'mongodb+srv://{atlas_user}:{atlas_key}@{cluster_name}.mongodb.net/test?retryWrites=true&w=majority')\n",
    "db = client.test\n",
    "collection = db[collection_name]\n",
    "\n",
    "pd.DataFrame(list(collection.find({'season': 2011})))"
   ]
  }
 ],
 "metadata": {
  "kernelspec": {
   "display_name": "Python 3",
   "language": "python",
   "name": "python3"
  },
  "language_info": {
   "codemirror_mode": {
    "name": "ipython",
    "version": 3
   },
   "file_extension": ".py",
   "mimetype": "text/x-python",
   "name": "python",
   "nbconvert_exporter": "python",
   "pygments_lexer": "ipython3",
   "version": "3.7.3"
  }
 },
 "nbformat": 4,
 "nbformat_minor": 2
}
