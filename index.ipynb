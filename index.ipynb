{
 "cells": [
  {
   "cell_type": "code",
   "execution_count": null,
   "metadata": {},
   "outputs": [],
   "source": [
    "import pandas as pd\n",
    "import numpy as np\n",
    "import pymongo\n",
    "import matplotlib.pyplot as plt\n",
    "import darksky_soccer as ds\n",
    "import scipy.stats as scs\n",
    "\n",
    "%load_ext autoreload\n",
    "%autoreload 2"
   ]
  },
  {
   "cell_type": "markdown",
   "metadata": {},
   "source": [
    "### Pull match data from sqlite database and combine with darksky weather data"
   ]
  },
  {
   "cell_type": "code",
   "execution_count": null,
   "metadata": {},
   "outputs": [],
   "source": [
    "darksky_key = ds.get_api_key('/Users/bmcgarry/.secret/darksky.txt')\n",
    "SEASON = 2011\n",
    "\n",
    "match_stats = ds.match_rain_data('database.sqlite', SEASON, darksky_key)"
   ]
  },
  {
   "cell_type": "markdown",
   "metadata": {},
   "source": [
    "### Create aggregate match stats with either pandas or sqlite"
   ]
  },
  {
   "cell_type": "code",
   "execution_count": null,
   "metadata": {},
   "outputs": [],
   "source": [
    "#Aggregate with Pandas\n",
    "team_stats_pandas = ds.calculate_aggregate_stats_pandas(match_stats)\n",
    "\n",
    "#Aggregate with SQLite\n",
    "team_stats_sql = ds.calculate_aggregate_stats_sqlite(match_stats, 'database.sqlite')"
   ]
  },
  {
   "cell_type": "markdown",
   "metadata": {},
   "source": [
    "### Insert data into atlas instance"
   ]
  },
  {
   "cell_type": "code",
   "execution_count": null,
   "metadata": {},
   "outputs": [],
   "source": [
    "atlas_user = 'brian_m'\n",
    "atlas_key = ds.get_api_key('/Users/bmcgarry/.secret/atlas.txt')\n",
    "cluster_name = 'chocolate-clusters-so6jw'\n",
    "collection_name = 'soccer_stats'"
   ]
  },
  {
   "cell_type": "code",
   "execution_count": null,
   "metadata": {},
   "outputs": [],
   "source": [
    "ds.insert_to_atlas(atlas_user,\n",
    "                   atlas_key,\n",
    "                   cluster_name,\n",
    "                   collection_name,\n",
    "                   team_stats_pandas)"
   ]
  },
  {
   "cell_type": "markdown",
   "metadata": {},
   "source": [
    "### Pull match data from atlas"
   ]
  },
  {
   "cell_type": "code",
   "execution_count": null,
   "metadata": {},
   "outputs": [],
   "source": [
    "url = f'mongodb+srv://{atlas_user}:{atlas_key}@{cluster_name}.mongodb.net/test?retryWrites=true&w=majority'\n",
    "client = pymongo.MongoClient(url)\n",
    "db = client.test\n",
    "collection = db[collection_name]\n",
    "\n",
    "df = pd.DataFrame(list(collection.find({'Season': SEASON})))\n",
    "df.head()"
   ]
  },
  {
   "cell_type": "markdown",
   "metadata": {},
   "source": [
    "### Plot Rain Win Percentages"
   ]
  },
  {
   "cell_type": "code",
   "execution_count": null,
   "metadata": {},
   "outputs": [],
   "source": [
    "fig, ax = plt.subplots(figsize=(15, 8))\n",
    "df.sort_values('rain_win_pct', ascending=False, inplace=True)\n",
    "ax.bar(df['Club'], df['rain_win_pct'])\n",
    "ax.tick_params(axis='x', rotation=70)\n",
    "ax.set_title(f'Win percentage In the Rain during the {SEASON} Season')\n",
    "ax.set_ylabel('Win Percentage')\n",
    "ax.set_xlabel('Teams');"
   ]
  },
  {
   "cell_type": "markdown",
   "metadata": {},
   "source": [
    "### Does the English Premier League have more goals per game than in Bundesliga in the 2011/12 season?"
   ]
  },
  {
   "cell_type": "code",
   "execution_count": null,
   "metadata": {},
   "outputs": [],
   "source": [
    "season_df = ds.get_season_data('database.sqlite', SEASON)\n",
    "season_df['both_team_goals'] = season_df['FTHG'] + season_df['FTAG']\n",
    "season_df.head()"
   ]
  },
  {
   "cell_type": "code",
   "execution_count": null,
   "metadata": {},
   "outputs": [],
   "source": [
    "fig, ax = plt.subplots(figsize=(10, 7))\n",
    "\n",
    "for division in season_df['Div'].unique():\n",
    "    goal_counts = season_df[season_df['Div'] == division]['both_team_goals']\n",
    "    ax.hist(goal_counts, bins=10, alpha=.4, label=division)\n",
    "    print(f'Mean Total Goals Scored per Game in {division}: {goal_counts.mean():.2f}');\n",
    "    \n",
    "ax.legend()\n",
    "ax.set_title(f'Distribution of Total Goals Scored in the \\nEnglish Premier League and Bundesliga for the {SEASON} Season')\n",
    "ax.set_ylabel('Number of Games')\n",
    "ax.set_xlabel('Number of Goals')\n",
    "fig.tight_layout()"
   ]
  },
  {
   "cell_type": "markdown",
   "metadata": {},
   "source": [
    "### Lets do a T-Test\n",
    "\n",
    "Null Hypothesis: The total goals scored per game in the Premier League in the 2011/2012 season are the same or fewer than in Bundesliga\n",
    "\n",
    "Alternative Hypothesis: The total goals scored per game in the Premier League in the 2011/2012 season are greater than in Bundesliga\n",
    "\n",
    "I will set my alpha value to 0.1.\n"
   ]
  },
  {
   "cell_type": "code",
   "execution_count": null,
   "metadata": {},
   "outputs": [],
   "source": [
    "premier_goals = season_df[season_df['Div'] == 'E0']['both_team_goals']\n",
    "bundesliga_goals = season_df[season_df['Div'] == 'D1']['both_team_goals']"
   ]
  },
  {
   "cell_type": "code",
   "execution_count": null,
   "metadata": {},
   "outputs": [],
   "source": [
    "scs.ttest_ind(premier_goals, bundesliga_goals, equal_var=False)"
   ]
  }
 ],
 "metadata": {
  "kernelspec": {
   "display_name": "Python 3",
   "language": "python",
   "name": "python3"
  },
  "language_info": {
   "codemirror_mode": {
    "name": "ipython",
    "version": 3
   },
   "file_extension": ".py",
   "mimetype": "text/x-python",
   "name": "python",
   "nbconvert_exporter": "python",
   "pygments_lexer": "ipython3",
   "version": "3.7.3"
  }
 },
 "nbformat": 4,
 "nbformat_minor": 2
}
